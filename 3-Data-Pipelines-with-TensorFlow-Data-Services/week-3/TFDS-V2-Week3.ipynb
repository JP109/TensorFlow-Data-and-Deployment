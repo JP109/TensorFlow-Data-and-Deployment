# Classify Structured Data

## Import TensorFlow and Other Libraries


```python
import pandas as pd
import tensorflow as tf

from tensorflow.keras import layers
from tensorflow import feature_column

from os import getcwd
from sklearn.model_selection import train_test_split
```

## Use Pandas to Create a Dataframe

[Pandas](https://pandas.pydata.org/) is a Python library with many helpful utilities for loading and working with structured data. We will use Pandas to download the dataset and load it into a dataframe.


```python
filePath = f"{getcwd()}/data/heart.csv"
dataframe = pd.read_csv(filePath)
dataframe.head()
```




<div>
<style scoped>
    .dataframe tbody tr th:only-of-type {
        vertical-align: middle;
    }

    .dataframe tbody tr th {
        vertical-align: top;
    }

    .dataframe thead th {
        text-align: right;
    }
</style>
<table border="1" class="dataframe">
  <thead>
    <tr style="text-align: right;">
      <th></th>
      <th>age</th>
      <th>sex</th>
      <th>cp</th>
      <th>trestbps</th>
      <th>chol</th>
      <th>fbs</th>
      <th>restecg</th>
      <th>thalach</th>
      <th>exang</th>
      <th>oldpeak</th>
      <th>slope</th>
      <th>ca</th>
      <th>thal</th>
      <th>target</th>
    </tr>
  </thead>
  <tbody>
    <tr>
      <th>0</th>
      <td>63</td>
      <td>1</td>
      <td>1</td>
      <td>145</td>
      <td>233</td>
      <td>1</td>
      <td>2</td>
      <td>150</td>
      <td>0</td>
      <td>2.3</td>
      <td>3</td>
      <td>0</td>
      <td>fixed</td>
      <td>0</td>
    </tr>
    <tr>
      <th>1</th>
      <td>67</td>
      <td>1</td>
      <td>4</td>
      <td>160</td>
      <td>286</td>
      <td>0</td>
      <td>2</td>
      <td>108</td>
      <td>1</td>
      <td>1.5</td>
      <td>2</td>
      <td>3</td>
      <td>normal</td>
      <td>1</td>
    </tr>
    <tr>
      <th>2</th>
      <td>67</td>
      <td>1</td>
      <td>4</td>
      <td>120</td>
      <td>229</td>
      <td>0</td>
      <td>2</td>
      <td>129</td>
      <td>1</td>
      <td>2.6</td>
      <td>2</td>
      <td>2</td>
      <td>reversible</td>
      <td>0</td>
    </tr>
    <tr>
      <th>3</th>
      <td>37</td>
      <td>1</td>
      <td>3</td>
      <td>130</td>
      <td>250</td>
      <td>0</td>
      <td>0</td>
      <td>187</td>
      <td>0</td>
      <td>3.5</td>
      <td>3</td>
      <td>0</td>
      <td>normal</td>
      <td>0</td>
    </tr>
    <tr>
      <th>4</th>
      <td>41</td>
      <td>0</td>
      <td>2</td>
      <td>130</td>
      <td>204</td>
      <td>0</td>
      <td>2</td>
      <td>172</td>
      <td>0</td>
      <td>1.4</td>
      <td>1</td>
      <td>0</td>
      <td>normal</td>
      <td>0</td>
    </tr>
  </tbody>
</table>
</div>



## Split the Dataframe Into Train, Validation, and Test Sets

The dataset we downloaded was a single CSV file. We will split this into train, validation, and test sets.


```python
train, test = train_test_split(dataframe, test_size=0.2)
train, val = train_test_split(train, test_size=0.2)
print(len(train), 'train examples')
print(len(val), 'validation examples')
print(len(test), 'test examples')
```

    193 train examples
    49 validation examples
    61 test examples


## Create an Input Pipeline Using `tf.data`

Next, we will wrap the dataframes with [tf.data](https://www.tensorflow.org/guide/datasets). This will enable us  to use feature columns as a bridge to map from the columns in the Pandas dataframe to features used to train the model. If we were working with a very large CSV file (so large that it does not fit into memory), we would use tf.data to read it from disk directly.


```python
# EXERCISE: A utility method to create a tf.data dataset from a Pandas Dataframe.

def df_to_dataset(dataframe, shuffle=True, batch_size=32):
    dataframe = dataframe.copy()
    # Use Pandas dataframe's pop method to get the list of targets.
    labels = dataframe.pop('target')
#     dataframe['thal'] = pd.Categorical(dataframe['thal'])
#     dataframe['thal'] = dataframe.thal.cat.codes
    
    # Create a tf.data.Dataset from the dataframe and labels.
    ds = tf.data.Dataset.from_tensor_slices((dict(dataframe), labels.values))
    
    if shuffle:
        # Shuffle dataset.
        ds = ds.shuffle(1024)
        
    # Batch dataset with specified batch_size parameter.
    ds = ds.batch(batch_size)
    
    return ds
```


```python
batch_size = 5 # A small batch sized is used for demonstration purposes
train_ds = df_to_dataset(train, batch_size=batch_size)
val_ds = df_to_dataset(val, shuffle=False, batch_size=batch_size)
test_ds = df_to_dataset(test, shuffle=False, batch_size=batch_size)
```

## Understand the Input Pipeline

Now that we have created the input pipeline, let's call it to see the format of the data it returns. We have used a small batch size to keep the output readable.


```python
for feature_batch, label_batch in train_ds.take(1):
    print('Every feature:', list(feature_batch.keys()))
    print('A batch of ages:', feature_batch['age'])
    print('A batch of targets:', label_batch )
```

    Every feature: ['age', 'sex', 'cp', 'trestbps', 'chol', 'fbs', 'restecg', 'thalach', 'exang', 'oldpeak', 'slope', 'ca', 'thal']
    A batch of ages: tf.Tensor([58 62 46 43 59], shape=(5,), dtype=int32)
    A batch of targets: tf.Tensor([0 0 0 0 0], shape=(5,), dtype=int64)


We can see that the dataset returns a dictionary of column names (from the dataframe) that map to column values from rows in the dataframe.

## Create Several Types of Feature Columns

TensorFlow provides many types of feature columns. In this section, we will create several types of feature columns, and demonstrate how they transform a column from the dataframe.


```python
# Try to demonstrate several types of feature columns by getting an example.
example_batch = next(iter(train_ds))[0]
```


```python
# A utility method to create a feature column and to transform a batch of data.
def demo(feature_column):
    feature_layer = layers.DenseFeatures(feature_column, dtype='float64')
    print(feature_layer(example_batch).numpy())
```

### Numeric Columns

The output of a feature column becomes the input to the model (using the demo function defined above, we will be able to see exactly how each column from the dataframe is transformed). A [numeric column](https://www.tensorflow.org/api_docs/python/tf/feature_column/numeric_column) is the simplest type of column. It is used to represent real valued features. 


```python
# EXERCISE: Create a numeric feature column out of 'age' and demo it.
age = tf.feature_column.numeric_column('age') # YOUR CODE HERE

demo(age)
```

    [[52.]
     [45.]
     [62.]
     [77.]
     [51.]]


In the heart disease dataset, most columns from the dataframe are numeric.

### Bucketized Columns

Often, you don't want to feed a number directly into the model, but instead split its value into different categories based on numerical ranges. Consider raw data that represents a person's age. Instead of representing age as a numeric column, we could split the age into several buckets using a [bucketized column](https://www.tensorflow.org/api_docs/python/tf/feature_column/bucketized_column). 


```python
# EXERCISE: Create a bucketized feature column out of 'age' with
# the following boundaries and demo it.
boundaries = [18, 25, 30, 35, 40, 45, 50, 55, 60, 65]

age_buckets = tf.feature_column.bucketized_column(age, boundaries) 

demo(age_buckets)
```

    [[0. 0. 0. 0. 0. 0. 0. 1. 0. 0. 0.]
     [0. 0. 0. 0. 0. 0. 1. 0. 0. 0. 0.]
     [0. 0. 0. 0. 0. 0. 0. 0. 0. 1. 0.]
     [0. 0. 0. 0. 0. 0. 0. 0. 0. 0. 1.]
     [0. 0. 0. 0. 0. 0. 0. 1. 0. 0. 0.]]


Notice the one-hot values above describe which age range each row matches.

### Categorical Columns

In this dataset, thal is represented as a string (e.g. 'fixed', 'normal', or 'reversible'). We cannot feed strings directly to a model. Instead, we must first map them to numeric values. The categorical vocabulary columns provide a way to represent strings as a one-hot vector (much like you have seen above with age buckets). 

**Note**: You will probably see some warning messages when running some of the code cell below. These warnings have to do with software updates and should not cause any errors or prevent your code from running.


```python
# EXERCISE: Create a categorical vocabulary column out of the
# above mentioned categories with the key specified as 'thal'.
thal = tf.feature_column.categorical_column_with_vocabulary_list('thal',['fixed','normal','reversible'])

# EXERCISE: Create an indicator column out of the created categorical column.
thal_one_hot = tf.feature_column.indicator_column(thal)

demo(thal_one_hot)
```

    WARNING:tensorflow:From /usr/local/lib/python3.6/dist-packages/tensorflow_core/python/feature_column/feature_column_v2.py:4267: IndicatorColumn._variable_shape (from tensorflow.python.feature_column.feature_column_v2) is deprecated and will be removed in a future version.
    Instructions for updating:
    The old _FeatureColumn APIs are being deprecated. Please use the new FeatureColumn APIs instead.
    WARNING:tensorflow:From /usr/local/lib/python3.6/dist-packages/tensorflow_core/python/feature_column/feature_column_v2.py:4322: VocabularyListCategoricalColumn._num_buckets (from tensorflow.python.feature_column.feature_column_v2) is deprecated and will be removed in a future version.
    Instructions for updating:
    The old _FeatureColumn APIs are being deprecated. Please use the new FeatureColumn APIs instead.
    [[0. 0. 1.]
     [0. 1. 0.]
     [0. 0. 1.]
     [0. 1. 0.]
     [0. 1. 0.]]


The vocabulary can be passed as a list using [categorical_column_with_vocabulary_list](https://www.tensorflow.org/api_docs/python/tf/feature_column/categorical_column_with_vocabulary_list), or loaded from a file using [categorical_column_with_vocabulary_file](https://www.tensorflow.org/api_docs/python/tf/feature_column/categorical_column_with_vocabulary_file).

### Embedding Columns

Suppose instead of having just a few possible strings, we have thousands (or more) values per category. For a number of reasons, as the number of categories grow large, it becomes infeasible to train a neural network using one-hot encodings. We can use an embedding column to overcome this limitation. Instead of representing the data as a one-hot vector of many dimensions, an [embedding column](https://www.tensorflow.org/api_docs/python/tf/feature_column/embedding_column) represents that data as a lower-dimensional, dense vector in which each cell can contain any number, not just 0 or 1. You can tune the size of the embedding with the `dimension` parameter.


```python
# EXERCISE: Create an embedding column out of the categorical
# vocabulary you just created (thal). Set the size of the 
# embedding to 8, by using the dimension parameter.

thal_embedding = tf.feature_column.embedding_column(thal, 8)


demo(thal_embedding)
```

    [[ 0.01769561  0.4098982  -0.15732732 -0.37193814 -0.33256936 -0.60667604
       0.2842179  -0.19922288]
     [-0.19520059 -0.28084463  0.5228804   0.3307757  -0.0620128  -0.17939998
      -0.36491656 -0.25202057]
     [ 0.01769561  0.4098982  -0.15732732 -0.37193814 -0.33256936 -0.60667604
       0.2842179  -0.19922288]
     [-0.19520059 -0.28084463  0.5228804   0.3307757  -0.0620128  -0.17939998
      -0.36491656 -0.25202057]
     [-0.19520059 -0.28084463  0.5228804   0.3307757  -0.0620128  -0.17939998
      -0.36491656 -0.25202057]]


### Hashed Feature Columns

Another way to represent a categorical column with a large number of values is to use a [categorical_column_with_hash_bucket](https://www.tensorflow.org/api_docs/python/tf/feature_column/categorical_column_with_hash_bucket). This feature column calculates a hash value of the input, then selects one of the `hash_bucket_size` buckets to encode a string. When using this column, you do not need to provide the vocabulary, and you can choose to make the number of hash buckets significantly smaller than the number of actual categories to save space.


```python
# EXERCISE: Create a hashed feature column with 'thal' as the key and 
# 1000 hash buckets.
thal_hashed = tf.feature_column.categorical_column_with_hash_bucket('thal', 1000)

demo(feature_column.indicator_column(thal_hashed))
```

    WARNING:tensorflow:From /usr/local/lib/python3.6/dist-packages/tensorflow_core/python/feature_column/feature_column_v2.py:4322: HashedCategoricalColumn._num_buckets (from tensorflow.python.feature_column.feature_column_v2) is deprecated and will be removed in a future version.
    Instructions for updating:
    The old _FeatureColumn APIs are being deprecated. Please use the new FeatureColumn APIs instead.
    [[0. 0. 0. ... 0. 0. 0.]
     [0. 0. 0. ... 0. 0. 0.]
     [0. 0. 0. ... 0. 0. 0.]
     [0. 0. 0. ... 0. 0. 0.]
     [0. 0. 0. ... 0. 0. 0.]]


### Crossed Feature Columns
Combining features into a single feature, better known as [feature crosses](https://developers.google.com/machine-learning/glossary/#feature_cross), enables a model to learn separate weights for each combination of features. Here, we will create a new feature that is the cross of age and thal. Note that `crossed_column` does not build the full table of all possible combinations (which could be very large). Instead, it is backed by a `hashed_column`, so you can choose how large the table is.


```python
# EXERCISE: Create a crossed column using the bucketized column (age_buckets),
# the categorical vocabulary column (thal) previously created, and 1000 hash buckets.
crossed_feature = tf.feature_column.crossed_column([age_buckets, thal], 1000)

demo(feature_column.indicator_column(crossed_feature))
```

    WARNING:tensorflow:From /usr/local/lib/python3.6/dist-packages/tensorflow_core/python/feature_column/feature_column_v2.py:4322: CrossedColumn._num_buckets (from tensorflow.python.feature_column.feature_column_v2) is deprecated and will be removed in a future version.
    Instructions for updating:
    The old _FeatureColumn APIs are being deprecated. Please use the new FeatureColumn APIs instead.
    [[0. 0. 0. ... 0. 0. 0.]
     [0. 0. 0. ... 0. 0. 0.]
     [0. 0. 0. ... 0. 0. 0.]
     [0. 0. 0. ... 0. 0. 0.]
     [0. 0. 0. ... 0. 0. 0.]]


## Choose Which Columns to Use

We have seen how to use several types of feature columns. Now we will use them to train a model. The goal of this exercise is to show you the complete code needed to work with feature columns. We have selected a few columns to train our model below arbitrarily.

If your aim is to build an accurate model, try a larger dataset of your own, and think carefully about which features are the most meaningful to include, and how they should be represented.


```python
dataframe.dtypes
```




    age           int64
    sex           int64
    cp            int64
    trestbps      int64
    chol          int64
    fbs           int64
    restecg       int64
    thalach       int64
    exang         int64
    oldpeak     float64
    slope         int64
    ca            int64
    thal         object
    target        int64
    dtype: object



You can use the above list of column datatypes to map the appropriate feature column to every column in the dataframe.


```python
# EXERCISE: Fill in the missing code below
feature_columns = []

# Numeric Cols.
# Create a list of numeric columns. Use the following list of columns
# that have a numeric datatype: ['age', 'trestbps', 'chol', 'thalach', 'oldpeak', 'slope', 'ca'].
numeric_columns = ['age', 'trestbps', 'chol', 'thalach', 'oldpeak', 'slope', 'ca']

for header in numeric_columns:
    # Create a numeric feature column  out of the header.
    numeric_feature_column = tf.feature_column.numeric_column(header)
    
    feature_columns.append(numeric_feature_column)

# Bucketized Cols.
# Create a bucketized feature column out of the age column (numeric column)
# that you've already created. Use the following boundaries:
# [18, 25, 30, 35, 40, 45, 50, 55, 60, 65]
age_buckets = tf.feature_column.bucketized_column(feature_columns[0], boundaries)

feature_columns.append(age_buckets)

# Indicator Cols.
# Create a categorical vocabulary column out of the categories
# ['fixed', 'normal', 'reversible'] with the key specified as 'thal'.
thal = tf.feature_column.categorical_column_with_vocabulary_list('thal', ['fixed', 'normal', 'reversible'])

# Create an indicator column out of the created thal categorical column
thal_one_hot = tf.feature_column.indicator_column(thal)

feature_columns.append(thal_one_hot)

# Embedding Cols.
# Create an embedding column out of the categorical vocabulary you
# just created (thal). Set the size of the embedding to 8, by using
# the dimension parameter.
thal_embedding = tf.feature_column.embedding_column(thal, 8)

feature_columns.append(thal_embedding)

# Crossed Cols.
# Create a crossed column using the bucketized column (age_buckets),
# the categorical vocabulary column (thal) previously created, and 1000 hash buckets.
crossed_feature = tf.feature_column.crossed_column([age_buckets, thal], 1000)

# Create an indicator column out of the crossed column created above to one-hot encode it.
crossed_feature = tf.feature_column.indicator_column(crossed_feature)

feature_columns.append(crossed_feature)
```

### Create a Feature Layer

Now that we have defined our feature columns, we will use a [DenseFeatures](https://www.tensorflow.org/versions/r2.0/api_docs/python/tf/keras/layers/DenseFeatures) layer to input them to our Keras model.


```python
# EXERCISE: Create a Keras DenseFeatures layer and pass the feature_columns you just created.
feature_layer = tf.keras.layers.DenseFeatures(feature_columns)
```

Earlier, we used a small batch size to demonstrate how feature columns worked. We create a new input pipeline with a larger batch size.


```python
batch_size = 32
train_ds = df_to_dataset(train, batch_size=batch_size)
val_ds = df_to_dataset(val, shuffle=False, batch_size=batch_size)
test_ds = df_to_dataset(test, shuffle=False, batch_size=batch_size)
```

## Create, Compile, and Train the Model


```python
model = tf.keras.Sequential([
        feature_layer,
        layers.Dense(128, activation='relu'),
        layers.Dense(128, activation='relu'),
        layers.Dense(1, activation='sigmoid')
])

model.compile(optimizer='adam',
              loss='binary_crossentropy',
              metrics=['accuracy'])

model.fit(train_ds,
          validation_data=val_ds,
          epochs=100)
```

    Train for 7 steps, validate for 2 steps
    Epoch 1/100
    7/7 [==============================] - 1s 162ms/step - loss: 4.2451 - accuracy: 0.5648 - val_loss: 2.0117 - val_accuracy: 0.7143
    Epoch 2/100
    7/7 [==============================] - 0s 7ms/step - loss: 1.3688 - accuracy: 0.5596 - val_loss: 0.8519 - val_accuracy: 0.5918
    Epoch 3/100
    7/7 [==============================] - 0s 7ms/step - loss: 0.6239 - accuracy: 0.7306 - val_loss: 1.0156 - val_accuracy: 0.7143
    Epoch 4/100
    7/7 [==============================] - 0s 8ms/step - loss: 0.6417 - accuracy: 0.7668 - val_loss: 0.7901 - val_accuracy: 0.6327
    Epoch 5/100
    7/7 [==============================] - 0s 7ms/step - loss: 0.6672 - accuracy: 0.6580 - val_loss: 0.6111 - val_accuracy: 0.7551
    Epoch 6/100
    7/7 [==============================] - 0s 8ms/step - loss: 0.5637 - accuracy: 0.7720 - val_loss: 0.5169 - val_accuracy: 0.7551
    Epoch 7/100
    7/7 [==============================] - 0s 7ms/step - loss: 0.4088 - accuracy: 0.7720 - val_loss: 0.5222 - val_accuracy: 0.7143
    Epoch 8/100
    7/7 [==============================] - 0s 8ms/step - loss: 0.3905 - accuracy: 0.7824 - val_loss: 0.5057 - val_accuracy: 0.7551
    Epoch 9/100
    7/7 [==============================] - 0s 7ms/step - loss: 0.4234 - accuracy: 0.7720 - val_loss: 0.4966 - val_accuracy: 0.7143
    Epoch 10/100
    7/7 [==============================] - 0s 8ms/step - loss: 0.3946 - accuracy: 0.7617 - val_loss: 0.4545 - val_accuracy: 0.7959
    Epoch 11/100
    7/7 [==============================] - 0s 8ms/step - loss: 0.3717 - accuracy: 0.8083 - val_loss: 0.4465 - val_accuracy: 0.7551
    Epoch 12/100
    7/7 [==============================] - 0s 7ms/step - loss: 0.3661 - accuracy: 0.7927 - val_loss: 0.4665 - val_accuracy: 0.7551
    Epoch 13/100
    7/7 [==============================] - 0s 9ms/step - loss: 0.4008 - accuracy: 0.7979 - val_loss: 0.4534 - val_accuracy: 0.7551
    Epoch 14/100
    7/7 [==============================] - 0s 7ms/step - loss: 0.5005 - accuracy: 0.8031 - val_loss: 0.5135 - val_accuracy: 0.7551
    Epoch 15/100
    7/7 [==============================] - 0s 8ms/step - loss: 0.4562 - accuracy: 0.7461 - val_loss: 0.4772 - val_accuracy: 0.7551
    Epoch 16/100
    7/7 [==============================] - 0s 7ms/step - loss: 0.4152 - accuracy: 0.7409 - val_loss: 0.6097 - val_accuracy: 0.7143
    Epoch 17/100
    7/7 [==============================] - 0s 8ms/step - loss: 0.5292 - accuracy: 0.7565 - val_loss: 0.4984 - val_accuracy: 0.6939
    Epoch 18/100
    7/7 [==============================] - 0s 7ms/step - loss: 0.6238 - accuracy: 0.7617 - val_loss: 0.5440 - val_accuracy: 0.6939
    Epoch 19/100
    7/7 [==============================] - 0s 9ms/step - loss: 0.6027 - accuracy: 0.6580 - val_loss: 0.6869 - val_accuracy: 0.7143
    Epoch 20/100
    7/7 [==============================] - 0s 9ms/step - loss: 0.5229 - accuracy: 0.7668 - val_loss: 0.5032 - val_accuracy: 0.7551
    Epoch 21/100
    7/7 [==============================] - 0s 7ms/step - loss: 0.4987 - accuracy: 0.7565 - val_loss: 0.6928 - val_accuracy: 0.7143
    Epoch 22/100
    7/7 [==============================] - 0s 9ms/step - loss: 1.0800 - accuracy: 0.7461 - val_loss: 0.5059 - val_accuracy: 0.7347
    Epoch 23/100
    7/7 [==============================] - 0s 7ms/step - loss: 0.8222 - accuracy: 0.5648 - val_loss: 0.6075 - val_accuracy: 0.7143
    Epoch 24/100
    7/7 [==============================] - 0s 8ms/step - loss: 1.1592 - accuracy: 0.7461 - val_loss: 0.4617 - val_accuracy: 0.7347
    Epoch 25/100
    7/7 [==============================] - 0s 7ms/step - loss: 0.8553 - accuracy: 0.4715 - val_loss: 0.4700 - val_accuracy: 0.7347
    Epoch 26/100
    7/7 [==============================] - 0s 8ms/step - loss: 0.7575 - accuracy: 0.7461 - val_loss: 0.5160 - val_accuracy: 0.7347
    Epoch 27/100
    7/7 [==============================] - 0s 7ms/step - loss: 0.5088 - accuracy: 0.7409 - val_loss: 0.6563 - val_accuracy: 0.7143
    Epoch 28/100
    7/7 [==============================] - 0s 8ms/step - loss: 0.5098 - accuracy: 0.7409 - val_loss: 0.6330 - val_accuracy: 0.7551
    Epoch 29/100
    7/7 [==============================] - 0s 9ms/step - loss: 0.4173 - accuracy: 0.8135 - val_loss: 0.5375 - val_accuracy: 0.7347
    Epoch 30/100
    7/7 [==============================] - 0s 7ms/step - loss: 0.4072 - accuracy: 0.7927 - val_loss: 0.4626 - val_accuracy: 0.8163
    Epoch 31/100
    7/7 [==============================] - 0s 8ms/step - loss: 0.4285 - accuracy: 0.7927 - val_loss: 0.4417 - val_accuracy: 0.8163
    Epoch 32/100
    7/7 [==============================] - 0s 7ms/step - loss: 0.3661 - accuracy: 0.8394 - val_loss: 0.4605 - val_accuracy: 0.7347
    Epoch 33/100
    7/7 [==============================] - 0s 8ms/step - loss: 0.3738 - accuracy: 0.7927 - val_loss: 0.4425 - val_accuracy: 0.8163
    Epoch 34/100
    7/7 [==============================] - 0s 7ms/step - loss: 0.4774 - accuracy: 0.8342 - val_loss: 0.5812 - val_accuracy: 0.7143
    Epoch 35/100
    7/7 [==============================] - 0s 8ms/step - loss: 0.4809 - accuracy: 0.7306 - val_loss: 0.5105 - val_accuracy: 0.7347
    Epoch 36/100
    7/7 [==============================] - 0s 7ms/step - loss: 0.4406 - accuracy: 0.7513 - val_loss: 0.4460 - val_accuracy: 0.7755
    Epoch 37/100
    7/7 [==============================] - 0s 8ms/step - loss: 0.3465 - accuracy: 0.8342 - val_loss: 0.4523 - val_accuracy: 0.7755
    Epoch 38/100
    7/7 [==============================] - 0s 7ms/step - loss: 0.3579 - accuracy: 0.8342 - val_loss: 0.4314 - val_accuracy: 0.7755
    Epoch 39/100
    7/7 [==============================] - 0s 8ms/step - loss: 0.3523 - accuracy: 0.8238 - val_loss: 0.4573 - val_accuracy: 0.7959
    Epoch 40/100
    7/7 [==============================] - 0s 9ms/step - loss: 0.4783 - accuracy: 0.8238 - val_loss: 0.4777 - val_accuracy: 0.7347
    Epoch 41/100
    7/7 [==============================] - 0s 7ms/step - loss: 0.4755 - accuracy: 0.7772 - val_loss: 0.4773 - val_accuracy: 0.7755
    Epoch 42/100
    7/7 [==============================] - 0s 9ms/step - loss: 0.4128 - accuracy: 0.8238 - val_loss: 0.4908 - val_accuracy: 0.7551
    Epoch 43/100
    7/7 [==============================] - 0s 7ms/step - loss: 0.4362 - accuracy: 0.7668 - val_loss: 0.4430 - val_accuracy: 0.7755
    Epoch 44/100
    7/7 [==============================] - 0s 8ms/step - loss: 0.4774 - accuracy: 0.8187 - val_loss: 0.5592 - val_accuracy: 0.7755
    Epoch 45/100
    7/7 [==============================] - 0s 7ms/step - loss: 0.4477 - accuracy: 0.7668 - val_loss: 0.4182 - val_accuracy: 0.7959
    Epoch 46/100
    7/7 [==============================] - 0s 8ms/step - loss: 0.3072 - accuracy: 0.8394 - val_loss: 0.4387 - val_accuracy: 0.7755
    Epoch 47/100
    7/7 [==============================] - 0s 7ms/step - loss: 0.3539 - accuracy: 0.8705 - val_loss: 0.4369 - val_accuracy: 0.7959
    Epoch 48/100
    7/7 [==============================] - 0s 8ms/step - loss: 0.3270 - accuracy: 0.8549 - val_loss: 0.4526 - val_accuracy: 0.7959
    Epoch 49/100
    7/7 [==============================] - 0s 7ms/step - loss: 0.2765 - accuracy: 0.8497 - val_loss: 0.4259 - val_accuracy: 0.7959
    Epoch 50/100
    7/7 [==============================] - 0s 8ms/step - loss: 0.3236 - accuracy: 0.8549 - val_loss: 0.4698 - val_accuracy: 0.7755
    Epoch 51/100
    7/7 [==============================] - 0s 9ms/step - loss: 0.3452 - accuracy: 0.8497 - val_loss: 0.4412 - val_accuracy: 0.7551
    Epoch 52/100
    7/7 [==============================] - 0s 7ms/step - loss: 0.3433 - accuracy: 0.8238 - val_loss: 0.4468 - val_accuracy: 0.7551
    Epoch 53/100
    7/7 [==============================] - 0s 8ms/step - loss: 0.3123 - accuracy: 0.8601 - val_loss: 0.4883 - val_accuracy: 0.7755
    Epoch 54/100
    7/7 [==============================] - 0s 7ms/step - loss: 0.2990 - accuracy: 0.8446 - val_loss: 0.4294 - val_accuracy: 0.7551
    Epoch 55/100
    7/7 [==============================] - 0s 8ms/step - loss: 0.3558 - accuracy: 0.8446 - val_loss: 0.4584 - val_accuracy: 0.7959
    Epoch 56/100
    7/7 [==============================] - 0s 7ms/step - loss: 0.3628 - accuracy: 0.8446 - val_loss: 0.4561 - val_accuracy: 0.7959
    Epoch 57/100
    7/7 [==============================] - 0s 8ms/step - loss: 0.2600 - accuracy: 0.8653 - val_loss: 0.4440 - val_accuracy: 0.7551
    Epoch 58/100
    7/7 [==============================] - 0s 7ms/step - loss: 0.3023 - accuracy: 0.8394 - val_loss: 0.4982 - val_accuracy: 0.7959
    Epoch 59/100
    7/7 [==============================] - 0s 8ms/step - loss: 0.3996 - accuracy: 0.8290 - val_loss: 0.4524 - val_accuracy: 0.7755
    Epoch 60/100
    7/7 [==============================] - 0s 9ms/step - loss: 0.2734 - accuracy: 0.8653 - val_loss: 0.4376 - val_accuracy: 0.7959
    Epoch 61/100
    7/7 [==============================] - 0s 7ms/step - loss: 0.3162 - accuracy: 0.8653 - val_loss: 0.4330 - val_accuracy: 0.7959
    Epoch 62/100
    7/7 [==============================] - 0s 9ms/step - loss: 0.2598 - accuracy: 0.8497 - val_loss: 0.4402 - val_accuracy: 0.7959
    Epoch 63/100
    7/7 [==============================] - 0s 7ms/step - loss: 0.4232 - accuracy: 0.8756 - val_loss: 0.4496 - val_accuracy: 0.7755
    Epoch 64/100
    7/7 [==============================] - 0s 8ms/step - loss: 0.4836 - accuracy: 0.7979 - val_loss: 0.4520 - val_accuracy: 0.7755
    Epoch 65/100
    7/7 [==============================] - 0s 7ms/step - loss: 0.4055 - accuracy: 0.8238 - val_loss: 0.5472 - val_accuracy: 0.7551
    Epoch 66/100
    7/7 [==============================] - 0s 8ms/step - loss: 0.7839 - accuracy: 0.8290 - val_loss: 0.4695 - val_accuracy: 0.7959
    Epoch 67/100
    7/7 [==============================] - 0s 7ms/step - loss: 0.4470 - accuracy: 0.8135 - val_loss: 0.6442 - val_accuracy: 0.7551
    Epoch 68/100
    7/7 [==============================] - 0s 8ms/step - loss: 0.7713 - accuracy: 0.8549 - val_loss: 0.4574 - val_accuracy: 0.7755
    Epoch 69/100
    7/7 [==============================] - 0s 8ms/step - loss: 0.3993 - accuracy: 0.8446 - val_loss: 0.4781 - val_accuracy: 0.7551
    Epoch 70/100
    7/7 [==============================] - 0s 7ms/step - loss: 0.2742 - accuracy: 0.8653 - val_loss: 0.4449 - val_accuracy: 0.7959
    Epoch 71/100
    7/7 [==============================] - 0s 9ms/step - loss: 0.2841 - accuracy: 0.8394 - val_loss: 0.4713 - val_accuracy: 0.7551
    Epoch 72/100
    7/7 [==============================] - 0s 7ms/step - loss: 0.3714 - accuracy: 0.8705 - val_loss: 0.4277 - val_accuracy: 0.7959
    Epoch 73/100
    7/7 [==============================] - 0s 8ms/step - loss: 0.4772 - accuracy: 0.7927 - val_loss: 0.4590 - val_accuracy: 0.7755
    Epoch 74/100
    7/7 [==============================] - 0s 7ms/step - loss: 0.4792 - accuracy: 0.7617 - val_loss: 0.4800 - val_accuracy: 0.7551
    Epoch 75/100
    7/7 [==============================] - 0s 8ms/step - loss: 0.2815 - accuracy: 0.8394 - val_loss: 0.5726 - val_accuracy: 0.7551
    Epoch 76/100
    7/7 [==============================] - 0s 7ms/step - loss: 0.4178 - accuracy: 0.8549 - val_loss: 0.4498 - val_accuracy: 0.7959
    Epoch 77/100
    7/7 [==============================] - 0s 9ms/step - loss: 0.3613 - accuracy: 0.8238 - val_loss: 0.4791 - val_accuracy: 0.7959
    Epoch 78/100
    7/7 [==============================] - 0s 9ms/step - loss: 0.2762 - accuracy: 0.8601 - val_loss: 0.4719 - val_accuracy: 0.7551
    Epoch 79/100
    7/7 [==============================] - 0s 7ms/step - loss: 0.5187 - accuracy: 0.8549 - val_loss: 0.4211 - val_accuracy: 0.7755
    Epoch 80/100
    7/7 [==============================] - 0s 9ms/step - loss: 0.3698 - accuracy: 0.7979 - val_loss: 0.4490 - val_accuracy: 0.7755
    Epoch 81/100
    7/7 [==============================] - 0s 7ms/step - loss: 0.2902 - accuracy: 0.8705 - val_loss: 0.4713 - val_accuracy: 0.8163
    Epoch 82/100
    7/7 [==============================] - 0s 7ms/step - loss: 0.2476 - accuracy: 0.8653 - val_loss: 0.4395 - val_accuracy: 0.7551
    Epoch 83/100
    7/7 [==============================] - 0s 7ms/step - loss: 0.3267 - accuracy: 0.8549 - val_loss: 0.4302 - val_accuracy: 0.7959
    Epoch 84/100
    7/7 [==============================] - 0s 8ms/step - loss: 0.3077 - accuracy: 0.8653 - val_loss: 0.4391 - val_accuracy: 0.7959
    Epoch 85/100
    7/7 [==============================] - 0s 7ms/step - loss: 0.2835 - accuracy: 0.8549 - val_loss: 0.4936 - val_accuracy: 0.7959
    Epoch 86/100
    7/7 [==============================] - 0s 9ms/step - loss: 0.2998 - accuracy: 0.8705 - val_loss: 0.4750 - val_accuracy: 0.7551
    Epoch 87/100
    7/7 [==============================] - 0s 8ms/step - loss: 0.3422 - accuracy: 0.8290 - val_loss: 0.4475 - val_accuracy: 0.8163
    Epoch 88/100
    7/7 [==============================] - 0s 7ms/step - loss: 0.2866 - accuracy: 0.8756 - val_loss: 0.4751 - val_accuracy: 0.7959
    Epoch 89/100
    7/7 [==============================] - 0s 9ms/step - loss: 0.2748 - accuracy: 0.8705 - val_loss: 0.4484 - val_accuracy: 0.7551
    Epoch 90/100
    7/7 [==============================] - 0s 7ms/step - loss: 0.2576 - accuracy: 0.8653 - val_loss: 0.4797 - val_accuracy: 0.7959
    Epoch 91/100
    7/7 [==============================] - 0s 8ms/step - loss: 0.3370 - accuracy: 0.8705 - val_loss: 0.4498 - val_accuracy: 0.7551
    Epoch 92/100
    7/7 [==============================] - 0s 7ms/step - loss: 0.4038 - accuracy: 0.8031 - val_loss: 0.4401 - val_accuracy: 0.7551
    Epoch 93/100
    7/7 [==============================] - 0s 8ms/step - loss: 0.3079 - accuracy: 0.8549 - val_loss: 0.5996 - val_accuracy: 0.7551
    Epoch 94/100
    7/7 [==============================] - 0s 9ms/step - loss: 0.2965 - accuracy: 0.8653 - val_loss: 0.4676 - val_accuracy: 0.7755
    Epoch 95/100
    7/7 [==============================] - 0s 7ms/step - loss: 0.2935 - accuracy: 0.8497 - val_loss: 0.4706 - val_accuracy: 0.7755
    Epoch 96/100
    7/7 [==============================] - 0s 8ms/step - loss: 0.2451 - accuracy: 0.8705 - val_loss: 0.4643 - val_accuracy: 0.7959
    Epoch 97/100
    7/7 [==============================] - 0s 7ms/step - loss: 0.2866 - accuracy: 0.8756 - val_loss: 0.4901 - val_accuracy: 0.7959
    Epoch 98/100
    7/7 [==============================] - 0s 9ms/step - loss: 0.2759 - accuracy: 0.8705 - val_loss: 0.4797 - val_accuracy: 0.7551
    Epoch 99/100
    7/7 [==============================] - 0s 7ms/step - loss: 0.2939 - accuracy: 0.8187 - val_loss: 0.5567 - val_accuracy: 0.7755
    Epoch 100/100
    7/7 [==============================] - 0s 8ms/step - loss: 0.2735 - accuracy: 0.8860 - val_loss: 0.4807 - val_accuracy: 0.7755





    <tensorflow.python.keras.callbacks.History at 0x7fb9105323c8>




```python
loss, accuracy = model.evaluate(test_ds)
print("Accuracy", accuracy)
```

    2/2 [==============================] - 0s 98ms/step - loss: 0.6418 - accuracy: 0.6721
    Accuracy 0.6721311


# Submission Instructions


```python
# Now click the 'Submit Assignment' button above.
```

# When you're done or would like to take a break, please run the two cells below to save your work and close the Notebook. This frees up resources for your fellow learners.


```javascript
%%javascript
<!-- Save the notebook -->
IPython.notebook.save_checkpoint();
```


```javascript
%%javascript
<!-- Shutdown and close the notebook -->
window.onbeforeunload = null
window.close();
IPython.notebook.session.delete();
```
